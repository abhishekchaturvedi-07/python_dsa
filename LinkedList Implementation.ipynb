{
 "cells": [
  {
   "cell_type": "code",
   "execution_count": 1,
   "id": "09c470a3-09f6-48f8-902d-2cb5e931f60f",
   "metadata": {},
   "outputs": [],
   "source": [
    "# First Create Node\n",
    "\n",
    "class Node:\n",
    "    def __init__(self, data = None):\n",
    "        self.data = data\n",
    "        self.next = None"
   ]
  },
  {
   "cell_type": "code",
   "execution_count": 20,
   "id": "16d0d59a-0347-423b-a749-6f176b243cd3",
   "metadata": {},
   "outputs": [],
   "source": [
    "# Create Linked List with all the Nodes\n",
    "\n",
    "class LinkedList:\n",
    "    def __init__(self):\n",
    "        self.head = None\n",
    "\n",
    "    def append(self, data):\n",
    "        # Initialize Node \n",
    "        new_node = Node(data)\n",
    "        \n",
    "        if not self.head:\n",
    "            self.head = new_node\n",
    "            return\n",
    "        last_node = self.head\n",
    "\n",
    "        # TRAVERSE\n",
    "        while last_node.next:\n",
    "            last_node = last_node.next\n",
    "        last_node.next = new_node\n",
    "\n",
    "    # DISPLAY\n",
    "    def display(self):\n",
    "        print('Inside Display')\n",
    "        cur_node = self.head\n",
    "        while cur_node:\n",
    "            print(cur_node.data, end = ' -> ')\n",
    "            cur_node = cur_node.next\n",
    "        print('DONE!!!')"
   ]
  },
  {
   "cell_type": "code",
   "execution_count": 21,
   "id": "4412c748-8335-46b9-accb-2cad098c7719",
   "metadata": {},
   "outputs": [],
   "source": [
    "testingLL = LinkedList()"
   ]
  },
  {
   "cell_type": "code",
   "execution_count": 22,
   "id": "12da46d6-f377-4f35-842d-19798a89ea81",
   "metadata": {},
   "outputs": [
    {
     "name": "stdout",
     "output_type": "stream",
     "text": [
      "Inside Display\n",
      "DONE!!!\n"
     ]
    }
   ],
   "source": [
    "testingLL.display()"
   ]
  },
  {
   "cell_type": "code",
   "execution_count": 25,
   "id": "758cc3fd-38a5-4718-96c2-50e291a015c0",
   "metadata": {},
   "outputs": [],
   "source": [
    "testingLL.append('Insta')"
   ]
  },
  {
   "cell_type": "code",
   "execution_count": 19,
   "id": "e5ef12fe-81f0-416f-8887-613130f066cb",
   "metadata": {},
   "outputs": [
    {
     "name": "stdout",
     "output_type": "stream",
     "text": [
      "Inside Display\n",
      "Insta->DONE!!!\n"
     ]
    }
   ],
   "source": [
    "testingLL.display()"
   ]
  },
  {
   "cell_type": "code",
   "execution_count": 23,
   "id": "e39d0da6-eb74-4873-8522-3cad524faea7",
   "metadata": {},
   "outputs": [],
   "source": [
    "testingLL.append('FB')"
   ]
  },
  {
   "cell_type": "code",
   "execution_count": 28,
   "id": "ed743107-e90c-4615-bae5-44f1a0588867",
   "metadata": {},
   "outputs": [
    {
     "name": "stdout",
     "output_type": "stream",
     "text": [
      "Inside Display\n",
      "FB -> Insta -> FB -> DONE!!!\n"
     ]
    }
   ],
   "source": [
    "testingLL.display()"
   ]
  },
  {
   "cell_type": "code",
   "execution_count": 29,
   "id": "ad447370-479b-4337-88af-0856373c452c",
   "metadata": {},
   "outputs": [],
   "source": [
    "testingLL.append('Whatsapp')"
   ]
  },
  {
   "cell_type": "code",
   "execution_count": 30,
   "id": "94358cdc-af59-4d74-ad8d-e883f12eee85",
   "metadata": {},
   "outputs": [
    {
     "name": "stdout",
     "output_type": "stream",
     "text": [
      "Inside Display\n",
      "FB -> Insta -> FB -> Whatsapp -> DONE!!!\n"
     ]
    }
   ],
   "source": [
    "testingLL.display()"
   ]
  },
  {
   "cell_type": "code",
   "execution_count": null,
   "id": "c6226fc2-7f71-43e3-80c9-380f042c72b7",
   "metadata": {},
   "outputs": [],
   "source": []
  }
 ],
 "metadata": {
  "kernelspec": {
   "display_name": "Python 3 (ipykernel)",
   "language": "python",
   "name": "python3"
  },
  "language_info": {
   "codemirror_mode": {
    "name": "ipython",
    "version": 3
   },
   "file_extension": ".py",
   "mimetype": "text/x-python",
   "name": "python",
   "nbconvert_exporter": "python",
   "pygments_lexer": "ipython3",
   "version": "3.11.7"
  }
 },
 "nbformat": 4,
 "nbformat_minor": 5
}
