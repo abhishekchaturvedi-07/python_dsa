{
 "cells": [
  {
   "cell_type": "code",
   "execution_count": 94,
   "id": "9e3f18ec-3bef-4057-b67c-16acab4b89ef",
   "metadata": {},
   "outputs": [],
   "source": [
    "class Stacks:\n",
    "    def __init__(self):\n",
    "        self.items = [1]\n",
    "        \n",
    "    def is_empty(self):\n",
    "        print('Checking if stack is empty')\n",
    "        '''if len(self.items) <= 0:\n",
    "            print('Stack is Empty')\n",
    "        else:\n",
    "            print(self.items[0])\n",
    "        '''\n",
    "        return len(self.items) == 0\n",
    "\n",
    "    def append(self):\n",
    "        print('Inside Append')\n",
    "        inputData = input('Enter the item: ')\n",
    "        self.items.append(int(inputData))\n",
    "\n",
    "    def display(self):\n",
    "        print('Inside Display')\n",
    "        print('Stacks: ', self.items)\n",
    "\n",
    "    def remove(self):\n",
    "        print('Inside Remove')\n",
    "        stackLen = len(self.items)\n",
    "        if not self.is_empty():\n",
    "            self.items.pop()\n",
    "        else: \n",
    "            print('STACK IS EMPTY NOW!!!!')\n",
    "        "
   ]
  },
  {
   "cell_type": "code",
   "execution_count": 95,
   "id": "c98a22d7-eed0-4dc5-829e-151f3ba3e1ee",
   "metadata": {},
   "outputs": [],
   "source": [
    "test_Stacks = Stacks()"
   ]
  },
  {
   "cell_type": "code",
   "execution_count": 96,
   "id": "c61f6f89-b082-4b47-bfe1-6eb5999b4fe4",
   "metadata": {},
   "outputs": [
    {
     "name": "stdout",
     "output_type": "stream",
     "text": [
      "Checking if stack is empty\n"
     ]
    },
    {
     "data": {
      "text/plain": [
       "False"
      ]
     },
     "execution_count": 96,
     "metadata": {},
     "output_type": "execute_result"
    }
   ],
   "source": [
    "test_Stacks.is_empty()"
   ]
  },
  {
   "cell_type": "code",
   "execution_count": 97,
   "id": "85ce1744-e9db-4521-995d-4628fa0d19f4",
   "metadata": {},
   "outputs": [
    {
     "name": "stdout",
     "output_type": "stream",
     "text": [
      "Inside Append\n"
     ]
    },
    {
     "name": "stdin",
     "output_type": "stream",
     "text": [
      "Enter the item:  1212\n"
     ]
    }
   ],
   "source": [
    "test_Stacks.append()"
   ]
  },
  {
   "cell_type": "code",
   "execution_count": 102,
   "id": "00a4e9bd-e059-48bb-bfa8-4b6d33830942",
   "metadata": {},
   "outputs": [
    {
     "name": "stdout",
     "output_type": "stream",
     "text": [
      "Inside Display\n",
      "Stacks:  []\n"
     ]
    }
   ],
   "source": [
    "test_Stacks.display()"
   ]
  },
  {
   "cell_type": "code",
   "execution_count": 103,
   "id": "84f3d820-d5eb-47b9-b2bb-817ff836f44b",
   "metadata": {},
   "outputs": [
    {
     "name": "stdout",
     "output_type": "stream",
     "text": [
      "Inside Remove\n",
      "Checking if stack is empty\n",
      "STACK IS EMPTY NOW!!!!\n"
     ]
    }
   ],
   "source": [
    "test_Stacks.remove()"
   ]
  },
  {
   "cell_type": "code",
   "execution_count": null,
   "id": "88ecd49e-beb8-4092-9c76-57dde773d762",
   "metadata": {},
   "outputs": [],
   "source": []
  }
 ],
 "metadata": {
  "kernelspec": {
   "display_name": "Python 3 (ipykernel)",
   "language": "python",
   "name": "python3"
  },
  "language_info": {
   "codemirror_mode": {
    "name": "ipython",
    "version": 3
   },
   "file_extension": ".py",
   "mimetype": "text/x-python",
   "name": "python",
   "nbconvert_exporter": "python",
   "pygments_lexer": "ipython3",
   "version": "3.11.7"
  }
 },
 "nbformat": 4,
 "nbformat_minor": 5
}
