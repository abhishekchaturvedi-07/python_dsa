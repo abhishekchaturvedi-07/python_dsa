{
 "cells": [
  {
   "cell_type": "code",
   "execution_count": 16,
   "id": "9e3f18ec-3bef-4057-b67c-16acab4b89ef",
   "metadata": {},
   "outputs": [],
   "source": [
    "class Queue:\n",
    "    def __init__(self):\n",
    "        self.items = [1]\n",
    "        \n",
    "    def is_empty(self):\n",
    "        print('Checking if queue is empty')\n",
    "        if len(self.items) <= 0:\n",
    "            print('Queue is Empty')\n",
    "            return len(self.items) == 0\n",
    "        else:\n",
    "            print(self.items[0])\n",
    "\n",
    "    def enqueue(self):\n",
    "        print('Inside Append')\n",
    "        inputData = input('Enter the item: ')\n",
    "        self.items.append(int(inputData))\n",
    "\n",
    "    def display(self):\n",
    "        print('Inside Display')\n",
    "        print('Stacks: ', self.items)\n",
    "\n",
    "    def dequeue(self):\n",
    "        print('Inside Remove')\n",
    "        stackLen = len(self.items)\n",
    "        if not self.is_empty():\n",
    "            self.items.pop(0)\n",
    "        else: \n",
    "            print('Queue IS EMPTY NOW!!!!')\n",
    "        "
   ]
  },
  {
   "cell_type": "code",
   "execution_count": 17,
   "id": "c98a22d7-eed0-4dc5-829e-151f3ba3e1ee",
   "metadata": {},
   "outputs": [],
   "source": [
    "test_Queue = Queue()"
   ]
  },
  {
   "cell_type": "code",
   "execution_count": 18,
   "id": "c61f6f89-b082-4b47-bfe1-6eb5999b4fe4",
   "metadata": {},
   "outputs": [
    {
     "name": "stdout",
     "output_type": "stream",
     "text": [
      "Checking if queue is empty\n",
      "1\n"
     ]
    }
   ],
   "source": [
    "test_Queue.is_empty()"
   ]
  },
  {
   "cell_type": "code",
   "execution_count": 19,
   "id": "85ce1744-e9db-4521-995d-4628fa0d19f4",
   "metadata": {},
   "outputs": [
    {
     "name": "stdout",
     "output_type": "stream",
     "text": [
      "Inside Append\n"
     ]
    },
    {
     "name": "stdin",
     "output_type": "stream",
     "text": [
      "Enter the item:  12\n"
     ]
    }
   ],
   "source": [
    "test_Queue.enqueue()"
   ]
  },
  {
   "cell_type": "code",
   "execution_count": 24,
   "id": "00a4e9bd-e059-48bb-bfa8-4b6d33830942",
   "metadata": {},
   "outputs": [
    {
     "name": "stdout",
     "output_type": "stream",
     "text": [
      "Inside Display\n",
      "Stacks:  []\n"
     ]
    }
   ],
   "source": [
    "test_Queue.display()"
   ]
  },
  {
   "cell_type": "code",
   "execution_count": 25,
   "id": "84f3d820-d5eb-47b9-b2bb-817ff836f44b",
   "metadata": {},
   "outputs": [
    {
     "name": "stdout",
     "output_type": "stream",
     "text": [
      "Inside Remove\n",
      "Checking if queue is empty\n",
      "Queue is Empty\n"
     ]
    },
    {
     "ename": "IndexError",
     "evalue": "pop from empty list",
     "output_type": "error",
     "traceback": [
      "\u001b[0;31m---------------------------------------------------------------------------\u001b[0m",
      "\u001b[0;31mIndexError\u001b[0m                                Traceback (most recent call last)",
      "Cell \u001b[0;32mIn[25], line 1\u001b[0m\n\u001b[0;32m----> 1\u001b[0m test_Queue\u001b[38;5;241m.\u001b[39mdequeue()\n",
      "Cell \u001b[0;32mIn[16], line 26\u001b[0m, in \u001b[0;36mQueue.dequeue\u001b[0;34m(self)\u001b[0m\n\u001b[1;32m     24\u001b[0m stackLen \u001b[38;5;241m=\u001b[39m \u001b[38;5;28mlen\u001b[39m(\u001b[38;5;28mself\u001b[39m\u001b[38;5;241m.\u001b[39mitems)\n\u001b[1;32m     25\u001b[0m \u001b[38;5;28;01mif\u001b[39;00m \u001b[38;5;129;01mnot\u001b[39;00m \u001b[38;5;28mself\u001b[39m\u001b[38;5;241m.\u001b[39mis_empty():\n\u001b[0;32m---> 26\u001b[0m     \u001b[38;5;28mself\u001b[39m\u001b[38;5;241m.\u001b[39mitems\u001b[38;5;241m.\u001b[39mpop(\u001b[38;5;241m0\u001b[39m)\n\u001b[1;32m     27\u001b[0m \u001b[38;5;28;01melse\u001b[39;00m: \n\u001b[1;32m     28\u001b[0m     \u001b[38;5;28mprint\u001b[39m(\u001b[38;5;124m'\u001b[39m\u001b[38;5;124mQueue IS EMPTY NOW!!!!\u001b[39m\u001b[38;5;124m'\u001b[39m)\n",
      "\u001b[0;31mIndexError\u001b[0m: pop from empty list"
     ]
    }
   ],
   "source": [
    "test_Queue.dequeue()"
   ]
  },
  {
   "cell_type": "code",
   "execution_count": null,
   "id": "88ecd49e-beb8-4092-9c76-57dde773d762",
   "metadata": {},
   "outputs": [],
   "source": []
  }
 ],
 "metadata": {
  "kernelspec": {
   "display_name": "Python 3 (ipykernel)",
   "language": "python",
   "name": "python3"
  },
  "language_info": {
   "codemirror_mode": {
    "name": "ipython",
    "version": 3
   },
   "file_extension": ".py",
   "mimetype": "text/x-python",
   "name": "python",
   "nbconvert_exporter": "python",
   "pygments_lexer": "ipython3",
   "version": "3.11.7"
  }
 },
 "nbformat": 4,
 "nbformat_minor": 5
}
